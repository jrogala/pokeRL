{
 "cells": [
  {
   "cell_type": "markdown",
   "metadata": {},
   "source": [
    "# Bench"
   ]
  },
  {
   "cell_type": "markdown",
   "metadata": {},
   "source": [
    "## Base sim (random input)"
   ]
  },
  {
   "cell_type": "code",
   "execution_count": 2,
   "metadata": {},
   "outputs": [],
   "source": [
    "from pokerl.env.rewards.basic_rewards import PokemonBlueEnv\n",
    "import random\n",
    "\n",
    "import ray"
   ]
  },
  {
   "cell_type": "code",
   "execution_count": 3,
   "metadata": {},
   "outputs": [
    {
     "name": "stderr",
     "output_type": "stream",
     "text": [
      "2024-01-15 20:39:06,523\tERROR services.py:1329 -- Failed to start the dashboard , return code 1\n",
      "2024-01-15 20:39:06,523\tERROR services.py:1354 -- Error should be written to 'dashboard.log' or 'dashboard.err'. We are printing the last 20 lines for you. See 'https://docs.ray.io/en/master/ray-observability/ray-logging.html#logging-directory-structure' to find where the log file is.\n",
      "2024-01-15 20:39:06,532\tERROR services.py:1398 -- \n",
      "The last 20 lines of C:\\Users\\kaosl\\AppData\\Local\\Temp\\ray\\session_2024-01-15_20-39-04_280478_3512\\logs\\dashboard.log (it contains the error message from the dashboard): \n",
      "  File \"c:\\Users\\kaosl\\AppData\\Local\\pypoetry\\Cache\\virtualenvs\\pokerl-qa45OdQw-py3.10\\lib\\site-packages\\ray\\dashboard\\head.py\", line 325, in run\n",
      "    modules = self._load_modules(self._modules_to_load)\n",
      "  File \"c:\\Users\\kaosl\\AppData\\Local\\pypoetry\\Cache\\virtualenvs\\pokerl-qa45OdQw-py3.10\\lib\\site-packages\\ray\\dashboard\\head.py\", line 219, in _load_modules\n",
      "    head_cls_list = dashboard_utils.get_all_modules(DashboardHeadModule)\n",
      "  File \"c:\\Users\\kaosl\\AppData\\Local\\pypoetry\\Cache\\virtualenvs\\pokerl-qa45OdQw-py3.10\\lib\\site-packages\\ray\\dashboard\\utils.py\", line 134, in get_all_modules\n",
      "    raise e\n",
      "  File \"c:\\Users\\kaosl\\AppData\\Local\\pypoetry\\Cache\\virtualenvs\\pokerl-qa45OdQw-py3.10\\lib\\site-packages\\ray\\dashboard\\utils.py\", line 121, in get_all_modules\n",
      "    importlib.import_module(name)\n",
      "  File \"C:\\Users\\kaosl\\.pyenv\\pyenv-win\\versions\\3.10.11\\lib\\importlib\\__init__.py\", line 126, in import_module\n",
      "    return _bootstrap._gcd_import(name[level:], package, level)\n",
      "  File \"<frozen importlib._bootstrap>\", line 1050, in _gcd_import\n",
      "  File \"<frozen importlib._bootstrap>\", line 1027, in _find_and_load\n",
      "  File \"<frozen importlib._bootstrap>\", line 1006, in _find_and_load_unlocked\n",
      "  File \"<frozen importlib._bootstrap>\", line 688, in _load_unlocked\n",
      "  File \"<frozen importlib._bootstrap_external>\", line 883, in exec_module\n",
      "  File \"<frozen importlib._bootstrap>\", line 241, in _call_with_frames_removed\n",
      "  File \"c:\\Users\\kaosl\\AppData\\Local\\pypoetry\\Cache\\virtualenvs\\pokerl-qa45OdQw-py3.10\\lib\\site-packages\\ray\\dashboard\\modules\\dashboard_sdk.py\", line 10, in <module>\n",
      "    from pkg_resources import packaging\n",
      "ModuleNotFoundError: No module named 'pkg_resources'\n",
      "2024-01-15 20:39:06,692\tINFO worker.py:1724 -- Started a local Ray instance.\n",
      "2024-01-15 20:39:07,760\tINFO packaging.py:530 -- Creating a file package for local directory '../'.\n",
      "2024-01-15 20:39:07,916\tINFO packaging.py:358 -- Pushing file package 'gcs://_ray_pkg_dbeefd6f84fcfe6a.zip' (1.00MiB) to Ray cluster...\n",
      "2024-01-15 20:39:07,920\tINFO packaging.py:371 -- Successfully pushed file package 'gcs://_ray_pkg_dbeefd6f84fcfe6a.zip'.\n"
     ]
    },
    {
     "ename": "",
     "evalue": "",
     "output_type": "error",
     "traceback": [
      "\u001b[1;31mThe Kernel crashed while executing code in the the current cell or a previous cell. Please review the code in the cell(s) to identify a possible cause of the failure. Click <a href='https://aka.ms/vscodeJupyterKernelCrash'>here</a> for more info. View Jupyter <a href='command:jupyter.viewOutput'>log</a> for further details."
     ]
    }
   ],
   "source": [
    "ray.init(runtime_env={\"working_dir\": \"../\"})"
   ]
  },
  {
   "cell_type": "code",
   "execution_count": null,
   "metadata": {},
   "outputs": [],
   "source": [
    "# Hyperparameters\n",
    "max_timesteps = 1000"
   ]
  },
  {
   "cell_type": "code",
   "execution_count": 12,
   "metadata": {},
   "outputs": [],
   "source": [
    "def simulate():\n",
    "    env = PokemonBlueGym()\n",
    "    for _ in (range(max_timesteps)):\n",
    "        action = random.choice(env.action_space_convertissor)\n",
    "        env.step(action)\n",
    "    return env.render()\n",
    "\n",
    "@ray.remote\n",
    "def simulate_ray():\n",
    "    simulate()"
   ]
  },
  {
   "cell_type": "code",
   "execution_count": 18,
   "metadata": {},
   "outputs": [
    {
     "name": "stdout",
     "output_type": "stream",
     "text": [
      "CPU times: total: 1min 23s\n",
      "Wall time: 1min 49s\n"
     ]
    }
   ],
   "source": [
    "%%time\n",
    "for i in range(20):\n",
    "    simulate()"
   ]
  },
  {
   "cell_type": "code",
   "execution_count": 20,
   "metadata": {},
   "outputs": [
    {
     "name": "stdout",
     "output_type": "stream",
     "text": [
      "CPU times: total: 78.1 ms\n",
      "Wall time: 45.2 s\n"
     ]
    }
   ],
   "source": [
    "%%time\n",
    "results = ray.get([simulate_ray.remote() for _ in range(40)])"
   ]
  },
  {
   "cell_type": "markdown",
   "metadata": {},
   "source": [
    "## Bench successive append on numpy array vs list"
   ]
  },
  {
   "cell_type": "code",
   "execution_count": 24,
   "metadata": {},
   "outputs": [],
   "source": [
    "import random\n",
    "\n",
    "amount_of_data = 100\n",
    "\n",
    "state = [[[random.randint(0, 255) for _ in range(100)] for _ in range(100)] for _ in range(amount_of_data)]\n",
    "action = [random.randint(0, 10) for _ in range(amount_of_data)]\n",
    "reward = [random.randint(0, 1) for _ in range(amount_of_data)]\n",
    "next_state = [[[random.randint(0, 255) for _ in range(100)] for _ in range(100)] for _ in range(amount_of_data)]\n",
    "done = [0 for _ in range(amount_of_data)]"
   ]
  },
  {
   "cell_type": "code",
   "execution_count": 25,
   "metadata": {},
   "outputs": [
    {
     "name": "stdout",
     "output_type": "stream",
     "text": [
      "CPU times: total: 31.2 ms\n",
      "Wall time: 48.5 ms\n"
     ]
    }
   ],
   "source": [
    "%%time\n",
    "from collections import deque\n",
    "\n",
    "memory = deque(maxlen=amount_of_data*1000)\n",
    "for i in range(amount_of_data*1000):\n",
    "    i_ = i % amount_of_data\n",
    "    memory.append((state[i_], action[i_], reward[i_], next_state[i_], done[i_]))\n"
   ]
  },
  {
   "cell_type": "code",
   "execution_count": 26,
   "metadata": {},
   "outputs": [
    {
     "name": "stdout",
     "output_type": "stream",
     "text": [
      "CPU times: total: 62.5 ms\n",
      "Wall time: 467 ms\n"
     ]
    }
   ],
   "source": [
    "%%time\n",
    "import numpy as np\n",
    "memory = np.zeros((amount_of_data*1000, 5, 100, 100))\n",
    "for i in range(amount_of_data):\n",
    "    memory[i, 0] = state[i]\n",
    "    memory[i, 1] = action[i]\n",
    "    memory[i, 2] = reward[i]\n",
    "    memory[i, 3] = next_state[i]\n",
    "    memory[i, 4] = done[i]\n"
   ]
  },
  {
   "cell_type": "markdown",
   "metadata": {},
   "source": [
    "Conclusion: deque is fastest"
   ]
  }
 ],
 "metadata": {
  "kernelspec": {
   "display_name": ".venv",
   "language": "python",
   "name": "python3"
  },
  "language_info": {
   "codemirror_mode": {
    "name": "ipython",
    "version": 3
   },
   "file_extension": ".py",
   "mimetype": "text/x-python",
   "name": "python",
   "nbconvert_exporter": "python",
   "pygments_lexer": "ipython3",
   "version": "3.10.11"
  }
 },
 "nbformat": 4,
 "nbformat_minor": 2
}
