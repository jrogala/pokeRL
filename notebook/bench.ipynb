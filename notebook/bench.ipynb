{
 "cells": [
  {
   "cell_type": "markdown",
   "metadata": {},
   "source": [
    "# Bench"
   ]
  },
  {
   "cell_type": "markdown",
   "metadata": {},
   "source": [
    "## Base sim (random input)"
   ]
  },
  {
   "cell_type": "code",
   "execution_count": null,
   "metadata": {},
   "outputs": [],
   "source": [
    "import random\n",
    "\n",
    "import ray\n",
    "\n",
    "from pokerl.env.pokemonblue import PokemonBlueEnv"
   ]
  },
  {
   "cell_type": "code",
   "execution_count": null,
   "metadata": {},
   "outputs": [],
   "source": [
    "ray.init(runtime_env={\"working_dir\": \"../\"})"
   ]
  },
  {
   "cell_type": "code",
   "execution_count": null,
   "metadata": {},
   "outputs": [],
   "source": [
    "# Hyperparameters\n",
    "max_timesteps = 1000"
   ]
  },
  {
   "cell_type": "code",
   "execution_count": null,
   "metadata": {},
   "outputs": [],
   "source": [
    "def simulate():\n",
    "    env = PokemonBlueEnv()\n",
    "    for _ in range(max_timesteps):\n",
    "        action = random.choice(env.action_space_convertissor)\n",
    "        env.step(action)\n",
    "    return env.render()\n",
    "\n",
    "\n",
    "@ray.remote\n",
    "def simulate_ray():\n",
    "    simulate()"
   ]
  },
  {
   "cell_type": "code",
   "execution_count": null,
   "metadata": {},
   "outputs": [],
   "source": [
    "%%time\n",
    "for _ in range(20):\n",
    "    simulate()"
   ]
  },
  {
   "cell_type": "code",
   "execution_count": null,
   "metadata": {},
   "outputs": [],
   "source": [
    "%%time\n",
    "results = ray.get([simulate_ray.remote() for _ in range(40)])"
   ]
  },
  {
   "cell_type": "markdown",
   "metadata": {},
   "source": [
    "## Bench successive append on numpy array vs list"
   ]
  },
  {
   "cell_type": "code",
   "execution_count": null,
   "metadata": {},
   "outputs": [],
   "source": [
    "amount_of_data = 100\n",
    "\n",
    "state = [[[random.randint(0, 255) for _ in range(100)] for _ in range(100)] for _ in range(amount_of_data)]\n",
    "action = [random.randint(0, 10) for _ in range(amount_of_data)]\n",
    "reward = [random.randint(0, 1) for _ in range(amount_of_data)]\n",
    "next_state = [[[random.randint(0, 255) for _ in range(100)] for _ in range(100)] for _ in range(amount_of_data)]\n",
    "done = [0 for _ in range(amount_of_data)]"
   ]
  },
  {
   "cell_type": "code",
   "execution_count": null,
   "metadata": {},
   "outputs": [],
   "source": [
    "%%time\n",
    "from collections import deque  # noqa: E402\n",
    "\n",
    "memory = deque(maxlen=amount_of_data * 1000)\n",
    "for i in range(amount_of_data * 1000):\n",
    "    i_ = i % amount_of_data\n",
    "    memory.append((state[i_], action[i_], reward[i_], next_state[i_], done[i_]))"
   ]
  },
  {
   "cell_type": "code",
   "execution_count": null,
   "metadata": {},
   "outputs": [],
   "source": [
    "%%time\n",
    "import numpy as np  # noqa: E402\n",
    "\n",
    "memory = np.zeros((amount_of_data * 1000, 5, 100, 100))\n",
    "for i in range(amount_of_data):\n",
    "    memory[i, 0] = state[i]\n",
    "    memory[i, 1] = action[i]\n",
    "    memory[i, 2] = reward[i]\n",
    "    memory[i, 3] = next_state[i]\n",
    "    memory[i, 4] = done[i]"
   ]
  },
  {
   "cell_type": "markdown",
   "metadata": {},
   "source": [
    "Conclusion: deque is fastest"
   ]
  }
 ],
 "metadata": {
  "kernelspec": {
   "display_name": ".venv",
   "language": "python",
   "name": "python3"
  },
  "language_info": {
   "codemirror_mode": {
    "name": "ipython",
    "version": 3
   },
   "file_extension": ".py",
   "mimetype": "text/x-python",
   "name": "python",
   "nbconvert_exporter": "python",
   "pygments_lexer": "ipython3",
   "version": "3.11.8"
  }
 },
 "nbformat": 4,
 "nbformat_minor": 2
}
