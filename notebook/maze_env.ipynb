{
 "cells": [
  {
   "cell_type": "code",
   "execution_count": 94,
   "metadata": {},
   "outputs": [],
   "source": [
    "import gymnasium as gym\n",
    "import numpy as np\n",
    "from stable_baselines3 import ppo"
   ]
  },
  {
   "cell_type": "code",
   "execution_count": 230,
   "metadata": {},
   "outputs": [],
   "source": [
    "class Maze(gym.Env):\n",
    "    def __init__(self, size: int) -> None:\n",
    "        super().__init__()\n",
    "        self.action_space = gym.spaces.Discrete(4)\n",
    "        self.observation_space = gym.spaces.Box(low=0, high=size, shape=(2,), dtype=int)\n",
    "        self.size = size\n",
    "        self.maze = (np.random.uniform(0, 1, (size, size)) > 0.8).astype(int)\n",
    "        self.start_point = (0, 0)\n",
    "        self.end_point = (size - 1, size - 1)\n",
    "        self.maze[self.start_point] = 0\n",
    "        self.maze[self.end_point] = 0\n",
    "        self.current_point = self.start_point\n",
    "        self.action_convertissor = {0: (0, 1), 1: (0, -1), 2: (1, 0), 3: (-1, 0)}\n",
    "\n",
    "    def reset(self, seed=None, config=None):\n",
    "        self.current_point = self.start_point\n",
    "        return self.current_point, {}\n",
    "\n",
    "    def step(self, action):\n",
    "        next_point = (\n",
    "            self.current_point[0] + self.action_convertissor[int(action)][0],\n",
    "            self.current_point[1] + self.action_convertissor[int(action)][1],\n",
    "        )\n",
    "        if next_point[0] < 0 or next_point[0] >= self.size or next_point[1] < 0 or next_point[1] >= self.size:\n",
    "            return self.current_point, -1, False, False, {}\n",
    "        if self.maze[next_point]:\n",
    "            return self.current_point, -1, False, False, {}\n",
    "        if next_point == self.end_point:\n",
    "            return next_point, 0, True, True, {}\n",
    "        self.current_point = next_point\n",
    "        return next_point, -1, False, False, {}\n"
   ]
  },
  {
   "cell_type": "code",
   "execution_count": 244,
   "metadata": {},
   "outputs": [],
   "source": [
    "from pygame import ver\n",
    "from tqdm import tqdm\n",
    "from gymnasium.wrappers import TimeLimit\n",
    "\n",
    "def run_maze(env, learn_timesteps=10000, max_episode_steps=100):\n",
    "    env = TimeLimit(env, max_episode_steps=max_episode_steps)\n",
    "    amount_done = 0\n",
    "    steps = 0\n",
    "    for _ in tqdm(range(10)):\n",
    "        obs, _ = env.reset()\n",
    "        model = ppo.PPO(\"MlpPolicy\", env)\n",
    "        model.learn(total_timesteps=learn_timesteps)\n",
    "        obs, _ = env.reset()\n",
    "        for step in range(100):\n",
    "            action, _states = model.predict(obs)\n",
    "            obs, reward, terminated, truncated, info = env.step(action)\n",
    "            done = terminated or truncated\n",
    "            if done:\n",
    "                break\n",
    "        if terminated:\n",
    "            amount_done += 1\n",
    "            steps += step\n",
    "            print(\"done in\", step, \"steps\")\n",
    "    print(amount_done/10, steps/amount_done if amount_done else 0)\n",
    "    return amount_done, steps"
   ]
  },
  {
   "cell_type": "code",
   "execution_count": 246,
   "metadata": {},
   "outputs": [
    {
     "name": "stdout",
     "output_type": "stream",
     "text": [
      "[[0 0 0 0 0 0 0 0]\n",
      " [0 0 0 0 1 0 0 0]\n",
      " [0 0 0 0 0 0 0 0]\n",
      " [1 0 0 0 0 0 1 0]\n",
      " [1 0 1 0 0 0 0 0]\n",
      " [0 0 0 0 1 0 1 1]\n",
      " [0 1 0 0 1 1 0 0]\n",
      " [0 0 0 0 0 0 0 0]]\n"
     ]
    },
    {
     "name": "stderr",
     "output_type": "stream",
     "text": [
      "100%|██████████| 10/10 [01:07<00:00,  6.80s/it]\n"
     ]
    },
    {
     "name": "stdout",
     "output_type": "stream",
     "text": [
      "0.0 0\n"
     ]
    },
    {
     "name": "stderr",
     "output_type": "stream",
     "text": [
      "100%|██████████| 10/10 [01:06<00:00,  6.68s/it]\n"
     ]
    },
    {
     "name": "stdout",
     "output_type": "stream",
     "text": [
      "0.0 0\n"
     ]
    },
    {
     "name": "stderr",
     "output_type": "stream",
     "text": [
      "100%|██████████| 10/10 [01:06<00:00,  6.68s/it]\n"
     ]
    },
    {
     "name": "stdout",
     "output_type": "stream",
     "text": [
      "0.0 0\n"
     ]
    },
    {
     "name": "stderr",
     "output_type": "stream",
     "text": [
      "100%|██████████| 10/10 [01:06<00:00,  6.67s/it]\n"
     ]
    },
    {
     "name": "stdout",
     "output_type": "stream",
     "text": [
      "0.0 0\n"
     ]
    },
    {
     "name": "stderr",
     "output_type": "stream",
     "text": [
      " 70%|███████   | 7/10 [00:45<00:19,  6.53s/it]"
     ]
    },
    {
     "name": "stdout",
     "output_type": "stream",
     "text": [
      "done in 74 steps\n"
     ]
    },
    {
     "name": "stderr",
     "output_type": "stream",
     "text": [
      "100%|██████████| 10/10 [01:05<00:00,  6.56s/it]\n"
     ]
    },
    {
     "name": "stdout",
     "output_type": "stream",
     "text": [
      "0.1 74.0\n"
     ]
    },
    {
     "name": "stderr",
     "output_type": "stream",
     "text": [
      " 50%|█████     | 5/10 [00:32<00:32,  6.55s/it]"
     ]
    },
    {
     "name": "stdout",
     "output_type": "stream",
     "text": [
      "done in 79 steps\n"
     ]
    },
    {
     "name": "stderr",
     "output_type": "stream",
     "text": [
      " 90%|█████████ | 9/10 [00:59<00:06,  6.57s/it]"
     ]
    },
    {
     "name": "stdout",
     "output_type": "stream",
     "text": [
      "done in 54 steps\n"
     ]
    },
    {
     "name": "stderr",
     "output_type": "stream",
     "text": [
      "100%|██████████| 10/10 [01:05<00:00,  6.57s/it]"
     ]
    },
    {
     "name": "stdout",
     "output_type": "stream",
     "text": [
      "0.2 66.5\n"
     ]
    },
    {
     "name": "stderr",
     "output_type": "stream",
     "text": [
      "\n"
     ]
    }
   ],
   "source": [
    "maze_size = 8\n",
    "env = Maze(maze_size)\n",
    "env.reset()\n",
    "print(env.maze)\n",
    "amount_done_steps = [run_maze(env, (maze_size ** 4 * 2), i) for i in range(50, 110, 10)]\n"
   ]
  },
  {
   "cell_type": "code",
   "execution_count": 241,
   "metadata": {},
   "outputs": [
    {
     "data": {
      "text/plain": [
       "[(0.07, 2.74),\n",
       " (0.060000000000000005, 2.5500000000000003),\n",
       " (0.060000000000000005, 2.15),\n",
       " (0.07, 2.32),\n",
       " (0.07, 2.6900000000000004),\n",
       " (0.08, 2.5700000000000003),\n",
       " (0.03, 0.9199999999999999),\n",
       " (0.03, 1.7400000000000002),\n",
       " (0.07, 2.0700000000000003),\n",
       " (0.09999999999999999, 2.98)]"
      ]
     },
     "execution_count": 241,
     "metadata": {},
     "output_type": "execute_result"
    }
   ],
   "source": [
    "amount_done_steps"
   ]
  }
 ],
 "metadata": {
  "kernelspec": {
   "display_name": "pokerl-qa45OdQw-py3.10",
   "language": "python",
   "name": "python3"
  },
  "language_info": {
   "codemirror_mode": {
    "name": "ipython",
    "version": 3
   },
   "file_extension": ".py",
   "mimetype": "text/x-python",
   "name": "python",
   "nbconvert_exporter": "python",
   "pygments_lexer": "ipython3",
   "version": "3.10.11"
  }
 },
 "nbformat": 4,
 "nbformat_minor": 2
}
