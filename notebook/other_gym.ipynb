{
 "cells": [
  {
   "cell_type": "code",
   "execution_count": 6,
   "metadata": {},
   "outputs": [],
   "source": [
    "import gymnasium as gym\n",
    "from stable_baselines3.common.env_util import make_vec_env\n",
    "from gymnasium.wrappers import TimeLimit\n",
    "\n",
    "\n",
    "env = gym.make('CartPole-v1')\n",
    "env = TimeLimit(env, max_episode_steps=200)\n",
    "\n",
    "env_vec = make_vec_env('CartPole-v1', n_envs=10)"
   ]
  },
  {
   "cell_type": "code",
   "execution_count": 7,
   "metadata": {},
   "outputs": [
    {
     "name": "stdout",
     "output_type": "stream",
     "text": [
      "Using privateuseone:0 device\n"
     ]
    }
   ],
   "source": [
    "from stable_baselines3 import ppo\n",
    "\n",
    "from pokerl.agent.tools import get_device\n",
    "\n",
    "ppo = ppo.PPO(\n",
    "    \"MlpPolicy\",\n",
    "    env_vec,\n",
    "    device=get_device(),\n",
    "    verbose=1\n",
    ")"
   ]
  },
  {
   "cell_type": "code",
   "execution_count": 3,
   "metadata": {},
   "outputs": [
    {
     "data": {
      "application/vnd.jupyter.widget-view+json": {
       "model_id": "a5e1525304b848bfa91c8e69b73eb211",
       "version_major": 2,
       "version_minor": 0
      },
      "text/plain": [
       "Output()"
      ]
     },
     "metadata": {},
     "output_type": "display_data"
    },
    {
     "data": {
      "text/html": [
       "<pre style=\"white-space:pre;overflow-x:auto;line-height:normal;font-family:Menlo,'DejaVu Sans Mono',consolas,'Courier New',monospace\">c:\\Users\\kaosl\\AppData\\Local\\pypoetry\\Cache\\virtualenvs\\pokerl-qa45OdQw-py3.10\\lib\\site-packages\\torch\\distribution\n",
       "s\\categorical.py:62: UserWarning: The operator 'aten::amax.out' is not currently supported on the DML backend and \n",
       "will fall back to run on the CPU. This may have performance implications. (Triggered internally at \n",
       "D:\\a\\_work\\1\\s\\pytorch-directml-plugin\\torch_directml\\csrc\\dml\\dml_cpu_fallback.cpp:17.)\n",
       "  self.logits = logits - logits.logsumexp(dim=-1, keepdim=True)\n",
       "</pre>\n"
      ],
      "text/plain": [
       "c:\\Users\\kaosl\\AppData\\Local\\pypoetry\\Cache\\virtualenvs\\pokerl-qa45OdQw-py3.10\\lib\\site-packages\\torch\\distribution\n",
       "s\\categorical.py:62: UserWarning: The operator 'aten::amax.out' is not currently supported on the DML backend and \n",
       "will fall back to run on the CPU. This may have performance implications. (Triggered internally at \n",
       "D:\\a\\_work\\1\\s\\pytorch-directml-plugin\\torch_directml\\csrc\\dml\\dml_cpu_fallback.cpp:17.)\n",
       "  self.logits = logits - logits.logsumexp(dim=-1, keepdim=True)\n"
      ]
     },
     "metadata": {},
     "output_type": "display_data"
    },
    {
     "name": "stdout",
     "output_type": "stream",
     "text": [
      "---------------------------------\n",
      "| rollout/           |          |\n",
      "|    ep_len_mean     | 21.2     |\n",
      "|    ep_rew_mean     | 21.2     |\n",
      "| time/              |          |\n",
      "|    fps             | 2343     |\n",
      "|    iterations      | 1        |\n",
      "|    time_elapsed    | 10       |\n",
      "|    total_timesteps | 24576    |\n",
      "---------------------------------\n"
     ]
    },
    {
     "name": "stdout",
     "output_type": "stream",
     "text": [
      "--------------------------------------------\n",
      "| rollout/                |                |\n",
      "|    ep_len_mean          | 22.1           |\n",
      "|    ep_rew_mean          | 22.1           |\n",
      "| time/                   |                |\n",
      "|    fps                  | 813            |\n",
      "|    iterations           | 2              |\n",
      "|    time_elapsed         | 60             |\n",
      "|    total_timesteps      | 49152          |\n",
      "| train/                  |                |\n",
      "|    approx_kl            | -1.9160022e-10 |\n",
      "|    clip_fraction        | 0              |\n",
      "|    clip_range           | 0.2            |\n",
      "|    entropy_loss         | -0.693         |\n",
      "|    explained_variance   | -0.000126      |\n",
      "|    learning_rate        | 0.0003         |\n",
      "|    loss                 | 46.2           |\n",
      "|    n_updates            | 10             |\n",
      "|    policy_gradient_loss | -1.1e-09       |\n",
      "|    value_loss           | 87.8           |\n",
      "--------------------------------------------\n"
     ]
    },
    {
     "name": "stdout",
     "output_type": "stream",
     "text": [
      "--------------------------------------------\n",
      "| rollout/                |                |\n",
      "|    ep_len_mean          | 23.6           |\n",
      "|    ep_rew_mean          | 23.6           |\n",
      "| time/                   |                |\n",
      "|    fps                  | 673            |\n",
      "|    iterations           | 3              |\n",
      "|    time_elapsed         | 109            |\n",
      "|    total_timesteps      | 73728          |\n",
      "| train/                  |                |\n",
      "|    approx_kl            | -2.4495725e-10 |\n",
      "|    clip_fraction        | 0              |\n",
      "|    clip_range           | 0.2            |\n",
      "|    entropy_loss         | -0.693         |\n",
      "|    explained_variance   | 0.00124        |\n",
      "|    learning_rate        | 0.0003         |\n",
      "|    loss                 | 47.8           |\n",
      "|    n_updates            | 20             |\n",
      "|    policy_gradient_loss | 8.16e-10       |\n",
      "|    value_loss           | 88.8           |\n",
      "--------------------------------------------\n"
     ]
    },
    {
     "name": "stdout",
     "output_type": "stream",
     "text": [
      "--------------------------------------------\n",
      "| rollout/                |                |\n",
      "|    ep_len_mean          | 22.4           |\n",
      "|    ep_rew_mean          | 22.4           |\n",
      "| time/                   |                |\n",
      "|    fps                  | 617            |\n",
      "|    iterations           | 4              |\n",
      "|    time_elapsed         | 159            |\n",
      "|    total_timesteps      | 98304          |\n",
      "| train/                  |                |\n",
      "|    approx_kl            | -1.9887618e-10 |\n",
      "|    clip_fraction        | 0              |\n",
      "|    clip_range           | 0.2            |\n",
      "|    entropy_loss         | -0.693         |\n",
      "|    explained_variance   | -4.85e-05      |\n",
      "|    learning_rate        | 0.0003         |\n",
      "|    loss                 | 41.1           |\n",
      "|    n_updates            | 30             |\n",
      "|    policy_gradient_loss | -1.49e-10      |\n",
      "|    value_loss           | 92             |\n",
      "--------------------------------------------\n"
     ]
    },
    {
     "name": "stdout",
     "output_type": "stream",
     "text": [
      "--------------------------------------------\n",
      "| rollout/                |                |\n",
      "|    ep_len_mean          | 24.9           |\n",
      "|    ep_rew_mean          | 24.9           |\n",
      "| time/                   |                |\n",
      "|    fps                  | 588            |\n",
      "|    iterations           | 5              |\n",
      "|    time_elapsed         | 208            |\n",
      "|    total_timesteps      | 122880         |\n",
      "| train/                  |                |\n",
      "|    approx_kl            | -2.3040532e-10 |\n",
      "|    clip_fraction        | 0              |\n",
      "|    clip_range           | 0.2            |\n",
      "|    entropy_loss         | -0.693         |\n",
      "|    explained_variance   | 0.000619       |\n",
      "|    learning_rate        | 0.0003         |\n",
      "|    loss                 | 47.4           |\n",
      "|    n_updates            | 40             |\n",
      "|    policy_gradient_loss | 4.62e-10       |\n",
      "|    value_loss           | 88             |\n",
      "--------------------------------------------\n"
     ]
    },
    {
     "data": {
      "text/html": [
       "<pre style=\"white-space:pre;overflow-x:auto;line-height:normal;font-family:Menlo,'DejaVu Sans Mono',consolas,'Courier New',monospace\"></pre>\n"
      ],
      "text/plain": []
     },
     "metadata": {},
     "output_type": "display_data"
    },
    {
     "data": {
      "text/html": [
       "<pre style=\"white-space:pre;overflow-x:auto;line-height:normal;font-family:Menlo,'DejaVu Sans Mono',consolas,'Courier New',monospace\">\n",
       "</pre>\n"
      ],
      "text/plain": [
       "\n"
      ]
     },
     "metadata": {},
     "output_type": "display_data"
    },
    {
     "data": {
      "text/plain": [
       "<stable_baselines3.ppo.ppo.PPO at 0x22cf2c23760>"
      ]
     },
     "execution_count": 3,
     "metadata": {},
     "output_type": "execute_result"
    }
   ],
   "source": [
    "ppo.learn(100000, progress_bar=True)"
   ]
  },
  {
   "cell_type": "code",
   "execution_count": 4,
   "metadata": {},
   "outputs": [],
   "source": [
    "env_human = gym.make('CartPole-v1', render_mode='human')"
   ]
  },
  {
   "cell_type": "code",
   "execution_count": 5,
   "metadata": {},
   "outputs": [
    {
     "name": "stderr",
     "output_type": "stream",
     "text": [
      "c:\\Users\\kaosl\\AppData\\Local\\pypoetry\\Cache\\virtualenvs\\pokerl-qa45OdQw-py3.10\\lib\\site-packages\\gymnasium\\envs\\classic_control\\cartpole.py:180: UserWarning: \u001b[33mWARN: You are calling 'step()' even though this environment has already returned terminated = True. You should always call 'reset()' once you receive 'terminated = True' -- any further steps are undefined behavior.\u001b[0m\n",
      "  logger.warn(\n"
     ]
    },
    {
     "ename": "KeyboardInterrupt",
     "evalue": "",
     "output_type": "error",
     "traceback": [
      "\u001b[1;31m---------------------------------------------------------------------------\u001b[0m",
      "\u001b[1;31mKeyboardInterrupt\u001b[0m                         Traceback (most recent call last)",
      "Cell \u001b[1;32mIn[5], line 3\u001b[0m\n\u001b[0;32m      1\u001b[0m obs, info  \u001b[38;5;241m=\u001b[39m env_human\u001b[38;5;241m.\u001b[39mreset()\n\u001b[0;32m      2\u001b[0m \u001b[38;5;28;01mfor\u001b[39;00m _ \u001b[38;5;129;01min\u001b[39;00m \u001b[38;5;28mrange\u001b[39m(\u001b[38;5;241m1000\u001b[39m):\n\u001b[1;32m----> 3\u001b[0m     \u001b[43menv_human\u001b[49m\u001b[38;5;241;43m.\u001b[39;49m\u001b[43mrender\u001b[49m\u001b[43m(\u001b[49m\u001b[43m)\u001b[49m\n\u001b[0;32m      4\u001b[0m     action, _  \u001b[38;5;241m=\u001b[39m ppo\u001b[38;5;241m.\u001b[39mpredict(obs)\n\u001b[0;32m      5\u001b[0m     obs, _, _, _, _\u001b[38;5;241m=\u001b[39m env_human\u001b[38;5;241m.\u001b[39mstep(action)  \u001b[38;5;66;03m# take a random action\u001b[39;00m\n",
      "File \u001b[1;32mc:\\Users\\kaosl\\AppData\\Local\\pypoetry\\Cache\\virtualenvs\\pokerl-qa45OdQw-py3.10\\lib\\site-packages\\gymnasium\\core.py:471\u001b[0m, in \u001b[0;36mWrapper.render\u001b[1;34m(self)\u001b[0m\n\u001b[0;32m    469\u001b[0m \u001b[38;5;28;01mdef\u001b[39;00m \u001b[38;5;21mrender\u001b[39m(\u001b[38;5;28mself\u001b[39m) \u001b[38;5;241m-\u001b[39m\u001b[38;5;241m>\u001b[39m RenderFrame \u001b[38;5;241m|\u001b[39m \u001b[38;5;28mlist\u001b[39m[RenderFrame] \u001b[38;5;241m|\u001b[39m \u001b[38;5;28;01mNone\u001b[39;00m:\n\u001b[0;32m    470\u001b[0m \u001b[38;5;250m    \u001b[39m\u001b[38;5;124;03m\"\"\"Uses the :meth:`render` of the :attr:`env` that can be overwritten to change the returned data.\"\"\"\u001b[39;00m\n\u001b[1;32m--> 471\u001b[0m     \u001b[38;5;28;01mreturn\u001b[39;00m \u001b[38;5;28;43mself\u001b[39;49m\u001b[38;5;241;43m.\u001b[39;49m\u001b[43menv\u001b[49m\u001b[38;5;241;43m.\u001b[39;49m\u001b[43mrender\u001b[49m\u001b[43m(\u001b[49m\u001b[43m)\u001b[49m\n",
      "File \u001b[1;32mc:\\Users\\kaosl\\AppData\\Local\\pypoetry\\Cache\\virtualenvs\\pokerl-qa45OdQw-py3.10\\lib\\site-packages\\gymnasium\\wrappers\\order_enforcing.py:70\u001b[0m, in \u001b[0;36mOrderEnforcing.render\u001b[1;34m(self, *args, **kwargs)\u001b[0m\n\u001b[0;32m     65\u001b[0m \u001b[38;5;28;01mif\u001b[39;00m \u001b[38;5;129;01mnot\u001b[39;00m \u001b[38;5;28mself\u001b[39m\u001b[38;5;241m.\u001b[39m_disable_render_order_enforcing \u001b[38;5;129;01mand\u001b[39;00m \u001b[38;5;129;01mnot\u001b[39;00m \u001b[38;5;28mself\u001b[39m\u001b[38;5;241m.\u001b[39m_has_reset:\n\u001b[0;32m     66\u001b[0m     \u001b[38;5;28;01mraise\u001b[39;00m ResetNeeded(\n\u001b[0;32m     67\u001b[0m         \u001b[38;5;124m\"\u001b[39m\u001b[38;5;124mCannot call `env.render()` before calling `env.reset()`, if this is a intended action, \u001b[39m\u001b[38;5;124m\"\u001b[39m\n\u001b[0;32m     68\u001b[0m         \u001b[38;5;124m\"\u001b[39m\u001b[38;5;124mset `disable_render_order_enforcing=True` on the OrderEnforcer wrapper.\u001b[39m\u001b[38;5;124m\"\u001b[39m\n\u001b[0;32m     69\u001b[0m     )\n\u001b[1;32m---> 70\u001b[0m \u001b[38;5;28;01mreturn\u001b[39;00m \u001b[38;5;28mself\u001b[39m\u001b[38;5;241m.\u001b[39menv\u001b[38;5;241m.\u001b[39mrender(\u001b[38;5;241m*\u001b[39margs, \u001b[38;5;241m*\u001b[39m\u001b[38;5;241m*\u001b[39mkwargs)\n",
      "File \u001b[1;32mc:\\Users\\kaosl\\AppData\\Local\\pypoetry\\Cache\\virtualenvs\\pokerl-qa45OdQw-py3.10\\lib\\site-packages\\gymnasium\\wrappers\\env_checker.py:67\u001b[0m, in \u001b[0;36mPassiveEnvChecker.render\u001b[1;34m(self, *args, **kwargs)\u001b[0m\n\u001b[0;32m     65\u001b[0m     \u001b[38;5;28;01mreturn\u001b[39;00m env_render_passive_checker(\u001b[38;5;28mself\u001b[39m\u001b[38;5;241m.\u001b[39menv, \u001b[38;5;241m*\u001b[39margs, \u001b[38;5;241m*\u001b[39m\u001b[38;5;241m*\u001b[39mkwargs)\n\u001b[0;32m     66\u001b[0m \u001b[38;5;28;01melse\u001b[39;00m:\n\u001b[1;32m---> 67\u001b[0m     \u001b[38;5;28;01mreturn\u001b[39;00m \u001b[38;5;28mself\u001b[39m\u001b[38;5;241m.\u001b[39menv\u001b[38;5;241m.\u001b[39mrender(\u001b[38;5;241m*\u001b[39margs, \u001b[38;5;241m*\u001b[39m\u001b[38;5;241m*\u001b[39mkwargs)\n",
      "File \u001b[1;32mc:\\Users\\kaosl\\AppData\\Local\\pypoetry\\Cache\\virtualenvs\\pokerl-qa45OdQw-py3.10\\lib\\site-packages\\gymnasium\\envs\\classic_control\\cartpole.py:302\u001b[0m, in \u001b[0;36mCartPoleEnv.render\u001b[1;34m(self)\u001b[0m\n\u001b[0;32m    300\u001b[0m \u001b[38;5;28;01mif\u001b[39;00m \u001b[38;5;28mself\u001b[39m\u001b[38;5;241m.\u001b[39mrender_mode \u001b[38;5;241m==\u001b[39m \u001b[38;5;124m\"\u001b[39m\u001b[38;5;124mhuman\u001b[39m\u001b[38;5;124m\"\u001b[39m:\n\u001b[0;32m    301\u001b[0m     pygame\u001b[38;5;241m.\u001b[39mevent\u001b[38;5;241m.\u001b[39mpump()\n\u001b[1;32m--> 302\u001b[0m     \u001b[38;5;28;43mself\u001b[39;49m\u001b[38;5;241;43m.\u001b[39;49m\u001b[43mclock\u001b[49m\u001b[38;5;241;43m.\u001b[39;49m\u001b[43mtick\u001b[49m\u001b[43m(\u001b[49m\u001b[38;5;28;43mself\u001b[39;49m\u001b[38;5;241;43m.\u001b[39;49m\u001b[43mmetadata\u001b[49m\u001b[43m[\u001b[49m\u001b[38;5;124;43m\"\u001b[39;49m\u001b[38;5;124;43mrender_fps\u001b[39;49m\u001b[38;5;124;43m\"\u001b[39;49m\u001b[43m]\u001b[49m\u001b[43m)\u001b[49m\n\u001b[0;32m    303\u001b[0m     pygame\u001b[38;5;241m.\u001b[39mdisplay\u001b[38;5;241m.\u001b[39mflip()\n\u001b[0;32m    305\u001b[0m \u001b[38;5;28;01melif\u001b[39;00m \u001b[38;5;28mself\u001b[39m\u001b[38;5;241m.\u001b[39mrender_mode \u001b[38;5;241m==\u001b[39m \u001b[38;5;124m\"\u001b[39m\u001b[38;5;124mrgb_array\u001b[39m\u001b[38;5;124m\"\u001b[39m:\n",
      "\u001b[1;31mKeyboardInterrupt\u001b[0m: "
     ]
    }
   ],
   "source": [
    "obs, info  = env_human.reset()\n",
    "for _ in range(1000):\n",
    "    env_human.render()\n",
    "    action, _  = ppo.predict(obs)\n",
    "    obs, _, _, _, _= env_human.step(action)  # take a random action"
   ]
  },
  {
   "cell_type": "code",
   "execution_count": null,
   "metadata": {},
   "outputs": [],
   "source": []
  }
 ],
 "metadata": {
  "kernelspec": {
   "display_name": "pokerl-qa45OdQw-py3.10",
   "language": "python",
   "name": "python3"
  },
  "language_info": {
   "codemirror_mode": {
    "name": "ipython",
    "version": 3
   },
   "file_extension": ".py",
   "mimetype": "text/x-python",
   "name": "python",
   "nbconvert_exporter": "python",
   "pygments_lexer": "ipython3",
   "version": "3.10.11"
  }
 },
 "nbformat": 4,
 "nbformat_minor": 2
}
