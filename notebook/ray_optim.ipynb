{
 "cells": [
  {
   "cell_type": "code",
   "execution_count": 1,
   "metadata": {},
   "outputs": [],
   "source": [
    "import ray"
   ]
  },
  {
   "cell_type": "code",
   "execution_count": 2,
   "metadata": {},
   "outputs": [
    {
     "name": "stderr",
     "output_type": "stream",
     "text": [
      "2024-02-26 17:04:10,561\tINFO worker.py:1715 -- Started a local Ray instance. View the dashboard at \u001b[1m\u001b[32m127.0.0.1:8265 \u001b[39m\u001b[22m\n"
     ]
    },
    {
     "data": {
      "application/vnd.jupyter.widget-view+json": {
       "model_id": "b28a3c5bcfe344148acdad65ce9476f2",
       "version_major": 2,
       "version_minor": 0
      },
      "text/html": [
       "<div class=\"lm-Widget p-Widget lm-Panel p-Panel jp-Cell-outputWrapper\">\n",
       "    <div style=\"margin-left: 50px;display: flex;flex-direction: row;align-items: center\">\n",
       "        <div class=\"jp-RenderedHTMLCommon\" style=\"display: flex; flex-direction: row;\">\n",
       "  <svg viewBox=\"0 0 567 224\" fill=\"none\" xmlns=\"http://www.w3.org/2000/svg\" style=\"height: 3em;\">\n",
       "    <g clip-path=\"url(#clip0_4338_178347)\">\n",
       "        <path d=\"M341.29 165.561H355.29L330.13 129.051C345.63 123.991 354.21 112.051 354.21 94.2307C354.21 71.3707 338.72 58.1807 311.88 58.1807H271V165.561H283.27V131.661H311.8C314.25 131.661 316.71 131.501 319.01 131.351L341.25 165.561H341.29ZM283.29 119.851V70.0007H311.82C331.3 70.0007 342.34 78.2907 342.34 94.5507C342.34 111.271 331.34 119.861 311.82 119.861L283.29 119.851ZM451.4 138.411L463.4 165.561H476.74L428.74 58.1807H416L367.83 165.561H380.83L392.83 138.411H451.4ZM446.19 126.601H398L422 72.1407L446.24 126.601H446.19ZM526.11 128.741L566.91 58.1807H554.35L519.99 114.181L485.17 58.1807H472.44L514.01 129.181V165.541H526.13V128.741H526.11Z\" fill=\"var(--jp-ui-font-color0)\"/>\n",
       "        <path d=\"M82.35 104.44C84.0187 97.8827 87.8248 92.0678 93.1671 87.9146C98.5094 83.7614 105.083 81.5067 111.85 81.5067C118.617 81.5067 125.191 83.7614 130.533 87.9146C135.875 92.0678 139.681 97.8827 141.35 104.44H163.75C164.476 101.562 165.622 98.8057 167.15 96.2605L127.45 56.5605C121.071 60.3522 113.526 61.6823 106.235 60.3005C98.9443 58.9187 92.4094 54.9203 87.8602 49.0574C83.3109 43.1946 81.0609 35.8714 81.5332 28.4656C82.0056 21.0599 85.1679 14.0819 90.4252 8.8446C95.6824 3.60726 102.672 0.471508 110.08 0.0272655C117.487 -0.416977 124.802 1.86091 130.647 6.4324C136.493 11.0039 140.467 17.5539 141.821 24.8501C143.175 32.1463 141.816 39.6859 138 46.0505L177.69 85.7505C182.31 82.9877 187.58 81.4995 192.962 81.4375C198.345 81.3755 203.648 82.742 208.33 85.3976C213.012 88.0532 216.907 91.9029 219.616 96.5544C222.326 101.206 223.753 106.492 223.753 111.875C223.753 117.258 222.326 122.545 219.616 127.197C216.907 131.848 213.012 135.698 208.33 138.353C203.648 141.009 198.345 142.375 192.962 142.313C187.58 142.251 182.31 140.763 177.69 138L138 177.7C141.808 184.071 143.155 191.614 141.79 198.91C140.424 206.205 136.44 212.75 130.585 217.313C124.731 221.875 117.412 224.141 110.004 223.683C102.596 223.226 95.6103 220.077 90.3621 214.828C85.1139 209.58 81.9647 202.595 81.5072 195.187C81.0497 187.779 83.3154 180.459 87.878 174.605C92.4405 168.751 98.9853 164.766 106.281 163.401C113.576 162.035 121.119 163.383 127.49 167.19L167.19 127.49C165.664 124.941 164.518 122.182 163.79 119.3H141.39C139.721 125.858 135.915 131.673 130.573 135.826C125.231 139.98 118.657 142.234 111.89 142.234C105.123 142.234 98.5494 139.98 93.2071 135.826C87.8648 131.673 84.0587 125.858 82.39 119.3H60C58.1878 126.495 53.8086 132.78 47.6863 136.971C41.5641 141.163 34.1211 142.972 26.7579 142.059C19.3947 141.146 12.6191 137.574 7.70605 132.014C2.79302 126.454 0.0813599 119.29 0.0813599 111.87C0.0813599 104.451 2.79302 97.2871 7.70605 91.7272C12.6191 86.1673 19.3947 82.5947 26.7579 81.6817C34.1211 80.7686 41.5641 82.5781 47.6863 86.7696C53.8086 90.9611 58.1878 97.2456 60 104.44H82.35ZM100.86 204.32C103.407 206.868 106.759 208.453 110.345 208.806C113.93 209.159 117.527 208.258 120.522 206.256C123.517 204.254 125.725 201.276 126.771 197.828C127.816 194.38 127.633 190.677 126.253 187.349C124.874 184.021 122.383 181.274 119.205 179.577C116.027 177.88 112.359 177.337 108.826 178.042C105.293 178.746 102.113 180.654 99.8291 183.44C97.5451 186.226 96.2979 189.718 96.3 193.32C96.2985 195.364 96.7006 197.388 97.4831 199.275C98.2656 201.163 99.4132 202.877 100.86 204.32ZM204.32 122.88C206.868 120.333 208.453 116.981 208.806 113.396C209.159 109.811 208.258 106.214 206.256 103.219C204.254 100.223 201.275 98.0151 197.827 96.97C194.38 95.9249 190.676 96.1077 187.348 97.4873C184.02 98.8669 181.274 101.358 179.577 104.536C177.879 107.714 177.337 111.382 178.041 114.915C178.746 118.448 180.653 121.627 183.439 123.911C186.226 126.195 189.717 127.443 193.32 127.44C195.364 127.443 197.388 127.042 199.275 126.259C201.163 125.476 202.878 124.328 204.32 122.88ZM122.88 19.4205C120.333 16.8729 116.981 15.2876 113.395 14.9347C109.81 14.5817 106.213 15.483 103.218 17.4849C100.223 19.4868 98.0146 22.4654 96.9696 25.9131C95.9245 29.3608 96.1073 33.0642 97.4869 36.3922C98.8665 39.7202 101.358 42.4668 104.535 44.1639C107.713 45.861 111.381 46.4036 114.914 45.6992C118.447 44.9949 121.627 43.0871 123.911 40.301C126.195 37.515 127.442 34.0231 127.44 30.4205C127.44 28.3772 127.038 26.3539 126.255 24.4664C125.473 22.5788 124.326 20.8642 122.88 19.4205ZM19.42 100.86C16.8725 103.408 15.2872 106.76 14.9342 110.345C14.5813 113.93 15.4826 117.527 17.4844 120.522C19.4863 123.518 22.4649 125.726 25.9127 126.771C29.3604 127.816 33.0638 127.633 36.3918 126.254C39.7198 124.874 42.4664 122.383 44.1635 119.205C45.8606 116.027 46.4032 112.359 45.6988 108.826C44.9944 105.293 43.0866 102.114 40.3006 99.8296C37.5145 97.5455 34.0227 96.2983 30.42 96.3005C26.2938 96.3018 22.337 97.9421 19.42 100.86ZM100.86 100.86C98.3125 103.408 96.7272 106.76 96.3742 110.345C96.0213 113.93 96.9226 117.527 98.9244 120.522C100.926 123.518 103.905 125.726 107.353 126.771C110.8 127.816 114.504 127.633 117.832 126.254C121.16 124.874 123.906 122.383 125.604 119.205C127.301 116.027 127.843 112.359 127.139 108.826C126.434 105.293 124.527 102.114 121.741 99.8296C118.955 97.5455 115.463 96.2983 111.86 96.3005C109.817 96.299 107.793 96.701 105.905 97.4835C104.018 98.2661 102.303 99.4136 100.86 100.86Z\" fill=\"#00AEEF\"/>\n",
       "    </g>\n",
       "    <defs>\n",
       "        <clipPath id=\"clip0_4338_178347\">\n",
       "            <rect width=\"566.93\" height=\"223.75\" fill=\"white\"/>\n",
       "        </clipPath>\n",
       "    </defs>\n",
       "  </svg>\n",
       "</div>\n",
       "\n",
       "        <table class=\"jp-RenderedHTMLCommon\" style=\"border-collapse: collapse;color: var(--jp-ui-font-color1);font-size: var(--jp-ui-font-size1);\">\n",
       "    <tr>\n",
       "        <td style=\"text-align: left\"><b>Python version:</b></td>\n",
       "        <td style=\"text-align: left\"><b>3.10.11</b></td>\n",
       "    </tr>\n",
       "    <tr>\n",
       "        <td style=\"text-align: left\"><b>Ray version:</b></td>\n",
       "        <td style=\"text-align: left\"><b>2.9.2</b></td>\n",
       "    </tr>\n",
       "    <tr>\n",
       "    <td style=\"text-align: left\"><b>Dashboard:</b></td>\n",
       "    <td style=\"text-align: left\"><b><a href=\"http://127.0.0.1:8265\" target=\"_blank\">http://127.0.0.1:8265</a></b></td>\n",
       "</tr>\n",
       "\n",
       "</table>\n",
       "\n",
       "    </div>\n",
       "</div>\n"
      ],
      "text/plain": [
       "RayContext(dashboard_url='127.0.0.1:8265', python_version='3.10.11', ray_version='2.9.2', ray_commit='fce7a361807580953364e2da964f9498f3123bf9', protocol_version=None)"
      ]
     },
     "execution_count": 2,
     "metadata": {},
     "output_type": "execute_result"
    }
   ],
   "source": [
    "ray.init()"
   ]
  },
  {
   "cell_type": "code",
   "execution_count": 3,
   "metadata": {},
   "outputs": [],
   "source": [
    "from dataclasses import dataclass\n",
    "\n",
    "import gymnasium as gym\n",
    "\n",
    "\n",
    "@ray.remote\n",
    "@dataclass\n",
    "class RemoteEnv():\n",
    "    env: gym.Env\n",
    "\n",
    "    def step(self, action):\n",
    "        return self.env.step(action)\n",
    "\n",
    "    def reset(self):\n",
    "        return self.env.reset()\n"
   ]
  },
  {
   "cell_type": "code",
   "execution_count": 12,
   "metadata": {},
   "outputs": [],
   "source": [
    "from typing import Any\n",
    "\n",
    "\n",
    "@ray.remote\n",
    "@dataclass\n",
    "class RemoteAgent():\n",
    "    agent: Any\n",
    "\n",
    "    def predict(self, state):\n",
    "        return self.agent.predict(state)\n",
    "\n",
    "    def learn(self, state, action, reward, next_state, done):\n",
    "        return self.agent.learn(state, action, reward, next_state, done)\n",
    "\n",
    "    def train(self):\n",
    "        return self.agent.train()\n"
   ]
  },
  {
   "cell_type": "code",
   "execution_count": 13,
   "metadata": {},
   "outputs": [],
   "source": [
    "from stable_baselines3 import ppo\n",
    "\n",
    "env = gym.make('CartPole-v0')\n",
    "remote_env = RemoteEnv.remote(env)\n",
    "\n",
    "agent = ppo.PPO(\"MlpPolicy\", env)\n",
    "remote_agent = RemoteAgent.remote(agent)"
   ]
  },
  {
   "cell_type": "code",
   "execution_count": 38,
   "metadata": {},
   "outputs": [],
   "source": [
    "import stable_baselines3\n",
    "\n",
    "\n",
    "def training(env, agent):\n",
    "    env: gym.Env = env\n",
    "    agent: stable_baselines3.PPO = agent\n",
    "    for _ in range(1000):\n",
    "        state, info = env.reset()\n",
    "        done = False\n",
    "        while not done:\n",
    "            action, states = agent.predict(state)\n",
    "            next_state, reward, terminated, truncated, _ = env.step(action)\n",
    "            done = terminated or truncated\n",
    "            agent.learn((state, action, reward, next_state, done))\n",
    "            state = next_state\n",
    "        agent.train()"
   ]
  },
  {
   "cell_type": "code",
   "execution_count": 39,
   "metadata": {},
   "outputs": [
    {
     "ename": "TypeError",
     "evalue": "'<' not supported between instances of 'int' and 'tuple'",
     "output_type": "error",
     "traceback": [
      "\u001b[1;31m---------------------------------------------------------------------------\u001b[0m",
      "\u001b[1;31mTypeError\u001b[0m                                 Traceback (most recent call last)",
      "Cell \u001b[1;32mIn[39], line 1\u001b[0m\n\u001b[1;32m----> 1\u001b[0m \u001b[43mtraining\u001b[49m\u001b[43m(\u001b[49m\u001b[43menv\u001b[49m\u001b[43m,\u001b[49m\u001b[43m \u001b[49m\u001b[43magent\u001b[49m\u001b[43m)\u001b[49m\n",
      "Cell \u001b[1;32mIn[38], line 14\u001b[0m, in \u001b[0;36mtraining\u001b[1;34m(env, agent)\u001b[0m\n\u001b[0;32m     12\u001b[0m     next_state, reward, terminated, truncated, _ \u001b[38;5;241m=\u001b[39m env\u001b[38;5;241m.\u001b[39mstep(action)\n\u001b[0;32m     13\u001b[0m     done \u001b[38;5;241m=\u001b[39m terminated \u001b[38;5;129;01mor\u001b[39;00m truncated\n\u001b[1;32m---> 14\u001b[0m     \u001b[43magent\u001b[49m\u001b[38;5;241;43m.\u001b[39;49m\u001b[43mlearn\u001b[49m\u001b[43m(\u001b[49m\u001b[43m(\u001b[49m\u001b[43mstate\u001b[49m\u001b[43m,\u001b[49m\u001b[43m \u001b[49m\u001b[43maction\u001b[49m\u001b[43m,\u001b[49m\u001b[43m \u001b[49m\u001b[43mreward\u001b[49m\u001b[43m,\u001b[49m\u001b[43m \u001b[49m\u001b[43mnext_state\u001b[49m\u001b[43m,\u001b[49m\u001b[43m \u001b[49m\u001b[43mdone\u001b[49m\u001b[43m)\u001b[49m\u001b[43m)\u001b[49m\n\u001b[0;32m     15\u001b[0m     state \u001b[38;5;241m=\u001b[39m next_state\n\u001b[0;32m     16\u001b[0m agent\u001b[38;5;241m.\u001b[39mtrain()\n",
      "File \u001b[1;32mc:\\Users\\kaosl\\AppData\\Local\\pypoetry\\Cache\\virtualenvs\\pokerl-qa45OdQw-py3.10\\lib\\site-packages\\stable_baselines3\\ppo\\ppo.py:315\u001b[0m, in \u001b[0;36mPPO.learn\u001b[1;34m(self, total_timesteps, callback, log_interval, tb_log_name, reset_num_timesteps, progress_bar)\u001b[0m\n\u001b[0;32m    306\u001b[0m \u001b[38;5;28;01mdef\u001b[39;00m \u001b[38;5;21mlearn\u001b[39m(\n\u001b[0;32m    307\u001b[0m     \u001b[38;5;28mself\u001b[39m: SelfPPO,\n\u001b[0;32m    308\u001b[0m     total_timesteps: \u001b[38;5;28mint\u001b[39m,\n\u001b[1;32m   (...)\u001b[0m\n\u001b[0;32m    313\u001b[0m     progress_bar: \u001b[38;5;28mbool\u001b[39m \u001b[38;5;241m=\u001b[39m \u001b[38;5;28;01mFalse\u001b[39;00m,\n\u001b[0;32m    314\u001b[0m ) \u001b[38;5;241m-\u001b[39m\u001b[38;5;241m>\u001b[39m SelfPPO:\n\u001b[1;32m--> 315\u001b[0m     \u001b[38;5;28;01mreturn\u001b[39;00m \u001b[38;5;28;43msuper\u001b[39;49m\u001b[43m(\u001b[49m\u001b[43m)\u001b[49m\u001b[38;5;241;43m.\u001b[39;49m\u001b[43mlearn\u001b[49m\u001b[43m(\u001b[49m\n\u001b[0;32m    316\u001b[0m \u001b[43m        \u001b[49m\u001b[43mtotal_timesteps\u001b[49m\u001b[38;5;241;43m=\u001b[39;49m\u001b[43mtotal_timesteps\u001b[49m\u001b[43m,\u001b[49m\n\u001b[0;32m    317\u001b[0m \u001b[43m        \u001b[49m\u001b[43mcallback\u001b[49m\u001b[38;5;241;43m=\u001b[39;49m\u001b[43mcallback\u001b[49m\u001b[43m,\u001b[49m\n\u001b[0;32m    318\u001b[0m \u001b[43m        \u001b[49m\u001b[43mlog_interval\u001b[49m\u001b[38;5;241;43m=\u001b[39;49m\u001b[43mlog_interval\u001b[49m\u001b[43m,\u001b[49m\n\u001b[0;32m    319\u001b[0m \u001b[43m        \u001b[49m\u001b[43mtb_log_name\u001b[49m\u001b[38;5;241;43m=\u001b[39;49m\u001b[43mtb_log_name\u001b[49m\u001b[43m,\u001b[49m\n\u001b[0;32m    320\u001b[0m \u001b[43m        \u001b[49m\u001b[43mreset_num_timesteps\u001b[49m\u001b[38;5;241;43m=\u001b[39;49m\u001b[43mreset_num_timesteps\u001b[49m\u001b[43m,\u001b[49m\n\u001b[0;32m    321\u001b[0m \u001b[43m        \u001b[49m\u001b[43mprogress_bar\u001b[49m\u001b[38;5;241;43m=\u001b[39;49m\u001b[43mprogress_bar\u001b[49m\u001b[43m,\u001b[49m\n\u001b[0;32m    322\u001b[0m \u001b[43m    \u001b[49m\u001b[43m)\u001b[49m\n",
      "File \u001b[1;32mc:\\Users\\kaosl\\AppData\\Local\\pypoetry\\Cache\\virtualenvs\\pokerl-qa45OdQw-py3.10\\lib\\site-packages\\stable_baselines3\\common\\on_policy_algorithm.py:276\u001b[0m, in \u001b[0;36mOnPolicyAlgorithm.learn\u001b[1;34m(self, total_timesteps, callback, log_interval, tb_log_name, reset_num_timesteps, progress_bar)\u001b[0m\n\u001b[0;32m    272\u001b[0m callback\u001b[38;5;241m.\u001b[39mon_training_start(\u001b[38;5;28mlocals\u001b[39m(), \u001b[38;5;28mglobals\u001b[39m())\n\u001b[0;32m    274\u001b[0m \u001b[38;5;28;01massert\u001b[39;00m \u001b[38;5;28mself\u001b[39m\u001b[38;5;241m.\u001b[39menv \u001b[38;5;129;01mis\u001b[39;00m \u001b[38;5;129;01mnot\u001b[39;00m \u001b[38;5;28;01mNone\u001b[39;00m\n\u001b[1;32m--> 276\u001b[0m \u001b[38;5;28;01mwhile\u001b[39;00m \u001b[38;5;28;43mself\u001b[39;49m\u001b[38;5;241;43m.\u001b[39;49m\u001b[43mnum_timesteps\u001b[49m\u001b[43m \u001b[49m\u001b[38;5;241;43m<\u001b[39;49m\u001b[43m \u001b[49m\u001b[43mtotal_timesteps\u001b[49m:\n\u001b[0;32m    277\u001b[0m     continue_training \u001b[38;5;241m=\u001b[39m \u001b[38;5;28mself\u001b[39m\u001b[38;5;241m.\u001b[39mcollect_rollouts(\u001b[38;5;28mself\u001b[39m\u001b[38;5;241m.\u001b[39menv, callback, \u001b[38;5;28mself\u001b[39m\u001b[38;5;241m.\u001b[39mrollout_buffer, n_rollout_steps\u001b[38;5;241m=\u001b[39m\u001b[38;5;28mself\u001b[39m\u001b[38;5;241m.\u001b[39mn_steps)\n\u001b[0;32m    279\u001b[0m     \u001b[38;5;28;01mif\u001b[39;00m \u001b[38;5;129;01mnot\u001b[39;00m continue_training:\n",
      "\u001b[1;31mTypeError\u001b[0m: '<' not supported between instances of 'int' and 'tuple'"
     ]
    }
   ],
   "source": [
    "training(env, agent)"
   ]
  },
  {
   "cell_type": "code",
   "execution_count": 26,
   "metadata": {},
   "outputs": [],
   "source": [
    "@ray.remote\n",
    "def remote_training():\n",
    "    env = remote_env\n",
    "    agent = remote_agent\n",
    "\n",
    "    for _ in range(1):\n",
    "        state, info = ray.get(env.reset.remote())\n",
    "        done = False\n",
    "        while not done:\n",
    "            action = ray.get(agent.predict.remote(state))\n",
    "            next_state, reward, terminated, truncated, _ = ray.get(env.step.remote(action))\n",
    "            done = terminated or truncated\n",
    "            ray.get(agent.learn.remote(state, action, reward, next_state, done))\n",
    "            state = next_state\n",
    "        ray.get(agent.train.remote())"
   ]
  },
  {
   "cell_type": "code",
   "execution_count": 27,
   "metadata": {},
   "outputs": [
    {
     "ename": "RayTaskError(AssertionError)",
     "evalue": "\u001b[36mray::remote_training()\u001b[39m (pid=13392, ip=127.0.0.1)\n  File \"python\\ray\\_raylet.pyx\", line 1813, in ray._raylet.execute_task\n  File \"C:\\Users\\kaosl\\AppData\\Local\\Temp\\ipykernel_5288\\3594627384.py\", line 11, in remote_training\n  File \"c:\\Users\\kaosl\\AppData\\Local\\pypoetry\\Cache\\virtualenvs\\pokerl-qa45OdQw-py3.10\\lib\\site-packages\\ray\\_private\\auto_init_hook.py\", line 22, in auto_init_wrapper\n    return fn(*args, **kwargs)\n  File \"c:\\Users\\kaosl\\AppData\\Local\\pypoetry\\Cache\\virtualenvs\\pokerl-qa45OdQw-py3.10\\lib\\site-packages\\ray\\_private\\client_mode_hook.py\", line 103, in wrapper\n    return func(*args, **kwargs)\n  File \"c:\\Users\\kaosl\\AppData\\Local\\pypoetry\\Cache\\virtualenvs\\pokerl-qa45OdQw-py3.10\\lib\\site-packages\\ray\\_private\\worker.py\", line 2624, in get\n    raise value.as_instanceof_cause()\nray.exceptions.RayTaskError(AssertionError): \u001b[36mray::RemoteEnv.step()\u001b[39m (pid=15600, ip=127.0.0.1, actor_id=6a6b2f185c6cd650702af75f01000000, repr=RemoteEnv(env=<TimeLimit<OrderEnforcing<PassiveEnvChecker<CartPoleEnv<CartPole-v0>>>>>))\n  File \"python\\ray\\_raylet.pyx\", line 1813, in ray._raylet.execute_task\n  File \"python\\ray\\_raylet.pyx\", line 1754, in ray._raylet.execute_task.function_executor\n  File \"c:\\Users\\kaosl\\AppData\\Local\\pypoetry\\Cache\\virtualenvs\\pokerl-qa45OdQw-py3.10\\lib\\site-packages\\ray\\_private\\function_manager.py\", line 726, in actor_method_executor\n    return method(__ray_actor, *args, **kwargs)\n  File \"c:\\Users\\kaosl\\AppData\\Local\\pypoetry\\Cache\\virtualenvs\\pokerl-qa45OdQw-py3.10\\lib\\site-packages\\ray\\util\\tracing\\tracing_helper.py\", line 467, in _resume_span\n    return method(self, *_args, **_kwargs)\n  File \"C:\\Users\\kaosl\\AppData\\Local\\Temp\\ipykernel_5288\\909967871.py\", line 12, in step\n  File \"c:\\Users\\kaosl\\AppData\\Local\\pypoetry\\Cache\\virtualenvs\\pokerl-qa45OdQw-py3.10\\lib\\site-packages\\gymnasium\\wrappers\\time_limit.py\", line 57, in step\n    observation, reward, terminated, truncated, info = self.env.step(action)\n  File \"c:\\Users\\kaosl\\AppData\\Local\\pypoetry\\Cache\\virtualenvs\\pokerl-qa45OdQw-py3.10\\lib\\site-packages\\gymnasium\\wrappers\\order_enforcing.py\", line 56, in step\n    return self.env.step(action)\n  File \"c:\\Users\\kaosl\\AppData\\Local\\pypoetry\\Cache\\virtualenvs\\pokerl-qa45OdQw-py3.10\\lib\\site-packages\\gymnasium\\wrappers\\env_checker.py\", line 51, in step\n    return self.env.step(action)\n  File \"c:\\Users\\kaosl\\AppData\\Local\\pypoetry\\Cache\\virtualenvs\\pokerl-qa45OdQw-py3.10\\lib\\site-packages\\gymnasium\\envs\\classic_control\\cartpole.py\", line 133, in step\n    assert self.action_space.contains(\nAssertionError: (array(1, dtype=int64), None) (<class 'tuple'>) invalid",
     "output_type": "error",
     "traceback": [
      "\u001b[1;31m---------------------------------------------------------------------------\u001b[0m",
      "\u001b[1;31mRayTaskError(AssertionError)\u001b[0m              Traceback (most recent call last)",
      "Cell \u001b[1;32mIn[27], line 1\u001b[0m\n\u001b[1;32m----> 1\u001b[0m \u001b[43mray\u001b[49m\u001b[38;5;241;43m.\u001b[39;49m\u001b[43mget\u001b[49m\u001b[43m(\u001b[49m\u001b[43mremote_training\u001b[49m\u001b[38;5;241;43m.\u001b[39;49m\u001b[43mremote\u001b[49m\u001b[43m(\u001b[49m\u001b[43m)\u001b[49m\u001b[43m)\u001b[49m\n",
      "File \u001b[1;32mc:\\Users\\kaosl\\AppData\\Local\\pypoetry\\Cache\\virtualenvs\\pokerl-qa45OdQw-py3.10\\lib\\site-packages\\ray\\_private\\auto_init_hook.py:22\u001b[0m, in \u001b[0;36mwrap_auto_init.<locals>.auto_init_wrapper\u001b[1;34m(*args, **kwargs)\u001b[0m\n\u001b[0;32m     19\u001b[0m \u001b[38;5;129m@wraps\u001b[39m(fn)\n\u001b[0;32m     20\u001b[0m \u001b[38;5;28;01mdef\u001b[39;00m \u001b[38;5;21mauto_init_wrapper\u001b[39m(\u001b[38;5;241m*\u001b[39margs, \u001b[38;5;241m*\u001b[39m\u001b[38;5;241m*\u001b[39mkwargs):\n\u001b[0;32m     21\u001b[0m     auto_init_ray()\n\u001b[1;32m---> 22\u001b[0m     \u001b[38;5;28;01mreturn\u001b[39;00m fn(\u001b[38;5;241m*\u001b[39margs, \u001b[38;5;241m*\u001b[39m\u001b[38;5;241m*\u001b[39mkwargs)\n",
      "File \u001b[1;32mc:\\Users\\kaosl\\AppData\\Local\\pypoetry\\Cache\\virtualenvs\\pokerl-qa45OdQw-py3.10\\lib\\site-packages\\ray\\_private\\client_mode_hook.py:103\u001b[0m, in \u001b[0;36mclient_mode_hook.<locals>.wrapper\u001b[1;34m(*args, **kwargs)\u001b[0m\n\u001b[0;32m    101\u001b[0m     \u001b[38;5;28;01mif\u001b[39;00m func\u001b[38;5;241m.\u001b[39m\u001b[38;5;18m__name__\u001b[39m \u001b[38;5;241m!=\u001b[39m \u001b[38;5;124m\"\u001b[39m\u001b[38;5;124minit\u001b[39m\u001b[38;5;124m\"\u001b[39m \u001b[38;5;129;01mor\u001b[39;00m is_client_mode_enabled_by_default:\n\u001b[0;32m    102\u001b[0m         \u001b[38;5;28;01mreturn\u001b[39;00m \u001b[38;5;28mgetattr\u001b[39m(ray, func\u001b[38;5;241m.\u001b[39m\u001b[38;5;18m__name__\u001b[39m)(\u001b[38;5;241m*\u001b[39margs, \u001b[38;5;241m*\u001b[39m\u001b[38;5;241m*\u001b[39mkwargs)\n\u001b[1;32m--> 103\u001b[0m \u001b[38;5;28;01mreturn\u001b[39;00m func(\u001b[38;5;241m*\u001b[39margs, \u001b[38;5;241m*\u001b[39m\u001b[38;5;241m*\u001b[39mkwargs)\n",
      "File \u001b[1;32mc:\\Users\\kaosl\\AppData\\Local\\pypoetry\\Cache\\virtualenvs\\pokerl-qa45OdQw-py3.10\\lib\\site-packages\\ray\\_private\\worker.py:2624\u001b[0m, in \u001b[0;36mget\u001b[1;34m(object_refs, timeout)\u001b[0m\n\u001b[0;32m   2622\u001b[0m     worker\u001b[38;5;241m.\u001b[39mcore_worker\u001b[38;5;241m.\u001b[39mdump_object_store_memory_usage()\n\u001b[0;32m   2623\u001b[0m \u001b[38;5;28;01mif\u001b[39;00m \u001b[38;5;28misinstance\u001b[39m(value, RayTaskError):\n\u001b[1;32m-> 2624\u001b[0m     \u001b[38;5;28;01mraise\u001b[39;00m value\u001b[38;5;241m.\u001b[39mas_instanceof_cause()\n\u001b[0;32m   2625\u001b[0m \u001b[38;5;28;01melse\u001b[39;00m:\n\u001b[0;32m   2626\u001b[0m     \u001b[38;5;28;01mraise\u001b[39;00m value\n",
      "\u001b[1;31mRayTaskError(AssertionError)\u001b[0m: \u001b[36mray::remote_training()\u001b[39m (pid=13392, ip=127.0.0.1)\n  File \"python\\ray\\_raylet.pyx\", line 1813, in ray._raylet.execute_task\n  File \"C:\\Users\\kaosl\\AppData\\Local\\Temp\\ipykernel_5288\\3594627384.py\", line 11, in remote_training\n  File \"c:\\Users\\kaosl\\AppData\\Local\\pypoetry\\Cache\\virtualenvs\\pokerl-qa45OdQw-py3.10\\lib\\site-packages\\ray\\_private\\auto_init_hook.py\", line 22, in auto_init_wrapper\n    return fn(*args, **kwargs)\n  File \"c:\\Users\\kaosl\\AppData\\Local\\pypoetry\\Cache\\virtualenvs\\pokerl-qa45OdQw-py3.10\\lib\\site-packages\\ray\\_private\\client_mode_hook.py\", line 103, in wrapper\n    return func(*args, **kwargs)\n  File \"c:\\Users\\kaosl\\AppData\\Local\\pypoetry\\Cache\\virtualenvs\\pokerl-qa45OdQw-py3.10\\lib\\site-packages\\ray\\_private\\worker.py\", line 2624, in get\n    raise value.as_instanceof_cause()\nray.exceptions.RayTaskError(AssertionError): \u001b[36mray::RemoteEnv.step()\u001b[39m (pid=15600, ip=127.0.0.1, actor_id=6a6b2f185c6cd650702af75f01000000, repr=RemoteEnv(env=<TimeLimit<OrderEnforcing<PassiveEnvChecker<CartPoleEnv<CartPole-v0>>>>>))\n  File \"python\\ray\\_raylet.pyx\", line 1813, in ray._raylet.execute_task\n  File \"python\\ray\\_raylet.pyx\", line 1754, in ray._raylet.execute_task.function_executor\n  File \"c:\\Users\\kaosl\\AppData\\Local\\pypoetry\\Cache\\virtualenvs\\pokerl-qa45OdQw-py3.10\\lib\\site-packages\\ray\\_private\\function_manager.py\", line 726, in actor_method_executor\n    return method(__ray_actor, *args, **kwargs)\n  File \"c:\\Users\\kaosl\\AppData\\Local\\pypoetry\\Cache\\virtualenvs\\pokerl-qa45OdQw-py3.10\\lib\\site-packages\\ray\\util\\tracing\\tracing_helper.py\", line 467, in _resume_span\n    return method(self, *_args, **_kwargs)\n  File \"C:\\Users\\kaosl\\AppData\\Local\\Temp\\ipykernel_5288\\909967871.py\", line 12, in step\n  File \"c:\\Users\\kaosl\\AppData\\Local\\pypoetry\\Cache\\virtualenvs\\pokerl-qa45OdQw-py3.10\\lib\\site-packages\\gymnasium\\wrappers\\time_limit.py\", line 57, in step\n    observation, reward, terminated, truncated, info = self.env.step(action)\n  File \"c:\\Users\\kaosl\\AppData\\Local\\pypoetry\\Cache\\virtualenvs\\pokerl-qa45OdQw-py3.10\\lib\\site-packages\\gymnasium\\wrappers\\order_enforcing.py\", line 56, in step\n    return self.env.step(action)\n  File \"c:\\Users\\kaosl\\AppData\\Local\\pypoetry\\Cache\\virtualenvs\\pokerl-qa45OdQw-py3.10\\lib\\site-packages\\gymnasium\\wrappers\\env_checker.py\", line 51, in step\n    return self.env.step(action)\n  File \"c:\\Users\\kaosl\\AppData\\Local\\pypoetry\\Cache\\virtualenvs\\pokerl-qa45OdQw-py3.10\\lib\\site-packages\\gymnasium\\envs\\classic_control\\cartpole.py\", line 133, in step\n    assert self.action_space.contains(\nAssertionError: (array(1, dtype=int64), None) (<class 'tuple'>) invalid"
     ]
    }
   ],
   "source": [
    "ray.get(remote_training.remote())"
   ]
  },
  {
   "cell_type": "code",
   "execution_count": 14,
   "metadata": {},
   "outputs": [
    {
     "name": "stderr",
     "output_type": "stream",
     "text": [
      "  0%|          | 0/200 [00:02<?, ?it/s]\n"
     ]
    },
    {
     "ename": "RayTaskError(ValueError)",
     "evalue": "\u001b[36mray::RemoteAgent.learn()\u001b[39m (pid=2548, ip=127.0.0.1, actor_id=62e9447c4c8f73a7d563795901000000, repr=RemoteAgent(agent=<stable_baselines3.ppo.ppo.PPO object at 0x00000209BC59A680>))\n  File \"python\\ray\\_raylet.pyx\", line 1813, in ray._raylet.execute_task\n  File \"python\\ray\\_raylet.pyx\", line 1754, in ray._raylet.execute_task.function_executor\n  File \"c:\\Users\\kaosl\\AppData\\Local\\pypoetry\\Cache\\virtualenvs\\pokerl-qa45OdQw-py3.10\\lib\\site-packages\\ray\\_private\\function_manager.py\", line 726, in actor_method_executor\n    return method(__ray_actor, *args, **kwargs)\n  File \"c:\\Users\\kaosl\\AppData\\Local\\pypoetry\\Cache\\virtualenvs\\pokerl-qa45OdQw-py3.10\\lib\\site-packages\\ray\\util\\tracing\\tracing_helper.py\", line 467, in _resume_span\n    return method(self, *_args, **_kwargs)\n  File \"C:\\Users\\kaosl\\AppData\\Local\\Temp\\ipykernel_5288\\1468660551.py\", line 13, in learn\n  File \"c:\\Users\\kaosl\\AppData\\Local\\pypoetry\\Cache\\virtualenvs\\pokerl-qa45OdQw-py3.10\\lib\\site-packages\\stable_baselines3\\ppo\\ppo.py\", line 315, in learn\n    return super().learn(\n  File \"c:\\Users\\kaosl\\AppData\\Local\\pypoetry\\Cache\\virtualenvs\\pokerl-qa45OdQw-py3.10\\lib\\site-packages\\stable_baselines3\\common\\on_policy_algorithm.py\", line 264, in learn\n    total_timesteps, callback = self._setup_learn(\n  File \"c:\\Users\\kaosl\\AppData\\Local\\pypoetry\\Cache\\virtualenvs\\pokerl-qa45OdQw-py3.10\\lib\\site-packages\\stable_baselines3\\common\\base_class.py\", line 416, in _setup_learn\n    total_timesteps += self.num_timesteps\nValueError: output array is read-only",
     "output_type": "error",
     "traceback": [
      "\u001b[1;31m---------------------------------------------------------------------------\u001b[0m",
      "\u001b[1;31mRayTaskError(ValueError)\u001b[0m                  Traceback (most recent call last)",
      "Cell \u001b[1;32mIn[14], line 8\u001b[0m\n\u001b[0;32m      6\u001b[0m next_state, reward, terminated, truncated, info \u001b[38;5;241m=\u001b[39m ray\u001b[38;5;241m.\u001b[39mget(remote_env\u001b[38;5;241m.\u001b[39mstep\u001b[38;5;241m.\u001b[39mremote(action))\n\u001b[0;32m      7\u001b[0m done \u001b[38;5;241m=\u001b[39m terminated \u001b[38;5;129;01mor\u001b[39;00m truncated\n\u001b[1;32m----> 8\u001b[0m \u001b[43mray\u001b[49m\u001b[38;5;241;43m.\u001b[39;49m\u001b[43mget\u001b[49m\u001b[43m(\u001b[49m\u001b[43mremote_agent\u001b[49m\u001b[38;5;241;43m.\u001b[39;49m\u001b[43mlearn\u001b[49m\u001b[38;5;241;43m.\u001b[39;49m\u001b[43mremote\u001b[49m\u001b[43m(\u001b[49m\u001b[43mstate\u001b[49m\u001b[43m,\u001b[49m\u001b[43m \u001b[49m\u001b[43maction\u001b[49m\u001b[43m,\u001b[49m\u001b[43m \u001b[49m\u001b[43mreward\u001b[49m\u001b[43m,\u001b[49m\u001b[43m \u001b[49m\u001b[43mnext_state\u001b[49m\u001b[43m,\u001b[49m\u001b[43m \u001b[49m\u001b[43mdone\u001b[49m\u001b[43m)\u001b[49m\u001b[43m)\u001b[49m\n\u001b[0;32m      9\u001b[0m state \u001b[38;5;241m=\u001b[39m next_state\n\u001b[0;32m     10\u001b[0m \u001b[38;5;28;01mif\u001b[39;00m done:\n",
      "File \u001b[1;32mc:\\Users\\kaosl\\AppData\\Local\\pypoetry\\Cache\\virtualenvs\\pokerl-qa45OdQw-py3.10\\lib\\site-packages\\ray\\_private\\auto_init_hook.py:22\u001b[0m, in \u001b[0;36mwrap_auto_init.<locals>.auto_init_wrapper\u001b[1;34m(*args, **kwargs)\u001b[0m\n\u001b[0;32m     19\u001b[0m \u001b[38;5;129m@wraps\u001b[39m(fn)\n\u001b[0;32m     20\u001b[0m \u001b[38;5;28;01mdef\u001b[39;00m \u001b[38;5;21mauto_init_wrapper\u001b[39m(\u001b[38;5;241m*\u001b[39margs, \u001b[38;5;241m*\u001b[39m\u001b[38;5;241m*\u001b[39mkwargs):\n\u001b[0;32m     21\u001b[0m     auto_init_ray()\n\u001b[1;32m---> 22\u001b[0m     \u001b[38;5;28;01mreturn\u001b[39;00m fn(\u001b[38;5;241m*\u001b[39margs, \u001b[38;5;241m*\u001b[39m\u001b[38;5;241m*\u001b[39mkwargs)\n",
      "File \u001b[1;32mc:\\Users\\kaosl\\AppData\\Local\\pypoetry\\Cache\\virtualenvs\\pokerl-qa45OdQw-py3.10\\lib\\site-packages\\ray\\_private\\client_mode_hook.py:103\u001b[0m, in \u001b[0;36mclient_mode_hook.<locals>.wrapper\u001b[1;34m(*args, **kwargs)\u001b[0m\n\u001b[0;32m    101\u001b[0m     \u001b[38;5;28;01mif\u001b[39;00m func\u001b[38;5;241m.\u001b[39m\u001b[38;5;18m__name__\u001b[39m \u001b[38;5;241m!=\u001b[39m \u001b[38;5;124m\"\u001b[39m\u001b[38;5;124minit\u001b[39m\u001b[38;5;124m\"\u001b[39m \u001b[38;5;129;01mor\u001b[39;00m is_client_mode_enabled_by_default:\n\u001b[0;32m    102\u001b[0m         \u001b[38;5;28;01mreturn\u001b[39;00m \u001b[38;5;28mgetattr\u001b[39m(ray, func\u001b[38;5;241m.\u001b[39m\u001b[38;5;18m__name__\u001b[39m)(\u001b[38;5;241m*\u001b[39margs, \u001b[38;5;241m*\u001b[39m\u001b[38;5;241m*\u001b[39mkwargs)\n\u001b[1;32m--> 103\u001b[0m \u001b[38;5;28;01mreturn\u001b[39;00m func(\u001b[38;5;241m*\u001b[39margs, \u001b[38;5;241m*\u001b[39m\u001b[38;5;241m*\u001b[39mkwargs)\n",
      "File \u001b[1;32mc:\\Users\\kaosl\\AppData\\Local\\pypoetry\\Cache\\virtualenvs\\pokerl-qa45OdQw-py3.10\\lib\\site-packages\\ray\\_private\\worker.py:2624\u001b[0m, in \u001b[0;36mget\u001b[1;34m(object_refs, timeout)\u001b[0m\n\u001b[0;32m   2622\u001b[0m     worker\u001b[38;5;241m.\u001b[39mcore_worker\u001b[38;5;241m.\u001b[39mdump_object_store_memory_usage()\n\u001b[0;32m   2623\u001b[0m \u001b[38;5;28;01mif\u001b[39;00m \u001b[38;5;28misinstance\u001b[39m(value, RayTaskError):\n\u001b[1;32m-> 2624\u001b[0m     \u001b[38;5;28;01mraise\u001b[39;00m value\u001b[38;5;241m.\u001b[39mas_instanceof_cause()\n\u001b[0;32m   2625\u001b[0m \u001b[38;5;28;01melse\u001b[39;00m:\n\u001b[0;32m   2626\u001b[0m     \u001b[38;5;28;01mraise\u001b[39;00m value\n",
      "\u001b[1;31mRayTaskError(ValueError)\u001b[0m: \u001b[36mray::RemoteAgent.learn()\u001b[39m (pid=2548, ip=127.0.0.1, actor_id=62e9447c4c8f73a7d563795901000000, repr=RemoteAgent(agent=<stable_baselines3.ppo.ppo.PPO object at 0x00000209BC59A680>))\n  File \"python\\ray\\_raylet.pyx\", line 1813, in ray._raylet.execute_task\n  File \"python\\ray\\_raylet.pyx\", line 1754, in ray._raylet.execute_task.function_executor\n  File \"c:\\Users\\kaosl\\AppData\\Local\\pypoetry\\Cache\\virtualenvs\\pokerl-qa45OdQw-py3.10\\lib\\site-packages\\ray\\_private\\function_manager.py\", line 726, in actor_method_executor\n    return method(__ray_actor, *args, **kwargs)\n  File \"c:\\Users\\kaosl\\AppData\\Local\\pypoetry\\Cache\\virtualenvs\\pokerl-qa45OdQw-py3.10\\lib\\site-packages\\ray\\util\\tracing\\tracing_helper.py\", line 467, in _resume_span\n    return method(self, *_args, **_kwargs)\n  File \"C:\\Users\\kaosl\\AppData\\Local\\Temp\\ipykernel_5288\\1468660551.py\", line 13, in learn\n  File \"c:\\Users\\kaosl\\AppData\\Local\\pypoetry\\Cache\\virtualenvs\\pokerl-qa45OdQw-py3.10\\lib\\site-packages\\stable_baselines3\\ppo\\ppo.py\", line 315, in learn\n    return super().learn(\n  File \"c:\\Users\\kaosl\\AppData\\Local\\pypoetry\\Cache\\virtualenvs\\pokerl-qa45OdQw-py3.10\\lib\\site-packages\\stable_baselines3\\common\\on_policy_algorithm.py\", line 264, in learn\n    total_timesteps, callback = self._setup_learn(\n  File \"c:\\Users\\kaosl\\AppData\\Local\\pypoetry\\Cache\\virtualenvs\\pokerl-qa45OdQw-py3.10\\lib\\site-packages\\stable_baselines3\\common\\base_class.py\", line 416, in _setup_learn\n    total_timesteps += self.num_timesteps\nValueError: output array is read-only"
     ]
    }
   ],
   "source": [
    "from tqdm import tqdm\n",
    "\n",
    "state, info = ray.get(remote_env.reset.remote())\n",
    "for step in tqdm(range(200)):\n",
    "    action, states = ray.get(remote_agent.predict.remote(state))\n",
    "    next_state, reward, terminated, truncated, info = ray.get(remote_env.step.remote(action))\n",
    "    done = terminated or truncated\n",
    "    ray.get(remote_agent.learn.remote(state, action, reward, next_state, done))\n",
    "    state = next_state\n",
    "    if done:\n",
    "        state, info = ray.get(remote_env.reset.remote())"
   ]
  }
 ],
 "metadata": {
  "kernelspec": {
   "display_name": "pokerl-qa45OdQw-py3.10",
   "language": "python",
   "name": "python3"
  },
  "language_info": {
   "codemirror_mode": {
    "name": "ipython",
    "version": 3
   },
   "file_extension": ".py",
   "mimetype": "text/x-python",
   "name": "python",
   "nbconvert_exporter": "python",
   "pygments_lexer": "ipython3",
   "version": "3.10.11"
  }
 },
 "nbformat": 4,
 "nbformat_minor": 2
}
