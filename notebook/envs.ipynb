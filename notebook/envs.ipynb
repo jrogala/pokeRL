{
 "cells": [
  {
   "cell_type": "code",
   "execution_count": 4,
   "metadata": {},
   "outputs": [
    {
     "name": "stdout",
     "output_type": "stream",
     "text": [
      "[-0.00888845  0.23743829 -0.0171408  -0.2646877 ] 1.0 False False {}\n",
      "[-0.00413968  0.04256513 -0.02243455  0.02253997] 1.0 False False {}\n",
      "[-0.00328838 -0.15222803 -0.02198376  0.30806097] 1.0 False False {}\n",
      "[-0.00633294  0.04320016 -0.01582254  0.00852682] 1.0 False False {}\n",
      "[-0.00546894  0.23854542 -0.015652   -0.289106  ] 1.0 False False {}\n",
      "[-0.00069803  0.04365011 -0.02143412 -0.00140038] 1.0 False False {}\n",
      "[ 1.7497114e-04  2.3907280e-01 -2.1462128e-02 -3.0076823e-01] 1.0 False False {}\n",
      "[ 0.00495643  0.43449396 -0.02747749 -0.6001419 ] 1.0 False False {}\n",
      "[ 0.01364631  0.6299893  -0.03948033 -0.9013516 ] 1.0 False False {}\n",
      "[ 0.02624609  0.4354239  -0.05750736 -0.621335  ] 1.0 False False {}\n"
     ]
    }
   ],
   "source": [
    "# Testing a gym environment\n",
    "\n",
    "import gymnasium as gym\n",
    "\n",
    "env = gym.make('CartPole-v1')\n",
    "env.reset()\n",
    "for _ in range(10):\n",
    "    state, reward, terminated, truncated, info = env.step(env.action_space.sample())\n",
    "    print(state, reward, terminated, truncated, info)\n",
    "    if terminated or truncated:\n",
    "        env.reset()\n",
    "env.close()"
   ]
  },
  {
   "cell_type": "code",
   "execution_count": 27,
   "metadata": {},
   "outputs": [],
   "source": [
    "# Testing a pokerl environment\n",
    "from pokerl.env.pokemonblue import PokemonBlueEnv\n",
    "\n",
    "env = PokemonBlueEnv(interactive=True)"
   ]
  },
  {
   "cell_type": "code",
   "execution_count": 24,
   "metadata": {},
   "outputs": [],
   "source": [
    "for _ in range(100):\n",
    "    state, reward, terminated, truncated, info = env.step(env.action_space.sample())"
   ]
  },
  {
   "cell_type": "code",
   "execution_count": 28,
   "metadata": {},
   "outputs": [],
   "source": [
    "env.close()"
   ]
  },
  {
   "cell_type": "code",
   "execution_count": 16,
   "metadata": {},
   "outputs": [],
   "source": [
    "# Testing a pokerl environment\n",
    "from pokerl.env.pokemonblue import PokemonBlueEnv\n",
    "\n",
    "env = PokemonBlueEnv()\n",
    "env.reset()\n",
    "for _ in range(10):\n",
    "    state, reward, terminated, truncated, info = env.step(env.action_space.sample())\n",
    "    if terminated or truncated:\n",
    "        env.reset()\n",
    "env.close()"
   ]
  },
  {
   "cell_type": "code",
   "execution_count": 23,
   "metadata": {},
   "outputs": [
    {
     "name": "stdout",
     "output_type": "stream",
     "text": [
      "5\n"
     ]
    }
   ],
   "source": [
    "# Testing a pokerl environment with a wrapper\n",
    "from pokerl.env.pokemonblue import PokemonBlueEnv\n",
    "from pokerl.env.rewards.basic_rewards import WrapperLevel\n",
    "\n",
    "env = PokemonBlueEnv()\n",
    "env = WrapperLevel(env)\n",
    "\n",
    "env.reset()\n",
    "for _ in range(1000):\n",
    "    state, reward, terminated, truncated, info = env.step(env.action_space.sample())\n",
    "    if terminated or truncated:\n",
    "        env.reset()\n",
    "env.close()"
   ]
  },
  {
   "cell_type": "code",
   "execution_count": null,
   "metadata": {},
   "outputs": [],
   "source": []
  }
 ],
 "metadata": {
  "kernelspec": {
   "display_name": "pokerl-PCbqR789-py3.10",
   "language": "python",
   "name": "python3"
  },
  "language_info": {
   "codemirror_mode": {
    "name": "ipython",
    "version": 3
   },
   "file_extension": ".py",
   "mimetype": "text/x-python",
   "name": "python",
   "nbconvert_exporter": "python",
   "pygments_lexer": "ipython3",
   "version": "3.10.12"
  }
 },
 "nbformat": 4,
 "nbformat_minor": 2
}
